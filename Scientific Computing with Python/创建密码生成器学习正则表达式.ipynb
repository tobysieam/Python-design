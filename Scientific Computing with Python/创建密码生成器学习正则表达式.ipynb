{
 "cells": [
  {
   "cell_type": "markdown",
   "id": "f138ce86",
   "metadata": {},
   "source": [
    "## The first_stage"
   ]
  },
  {
   "cell_type": "code",
   "execution_count": 3,
   "id": "e6d65d13",
   "metadata": {},
   "outputs": [
    {
     "name": "stdout",
     "output_type": "stream",
     "text": [
      "abcdefghijklmnopqrstuvwxyzABCDEFGHIJKLMNOPQRSTUVWXYZ0123456789!\"#$%&'()*+,-./:;<=>?@[\\]^_`{|}~\n"
     ]
    }
   ],
   "source": [
    "import string\n",
    "import secrets\n",
    "letters = string.ascii_letters\n",
    "'''\n",
    "`string.ascii_letters` 是 Python 的 `string` 模块中的一个常量，它包含所有的英文字母，包括小写字母和大写字母。具体来说，它等价于：\n",
    "string.ascii_letters == string.ascii_lowercase + string.ascii_uppercase\n",
    "它的值是一个字符串，内容为：\n",
    "'abcdefghijklmnopqrstuvwxyzABCDEFGHIJKLMNOPQRSTUVWXYZ'\n",
    "也就是说，`string.ascii_letters` 包含了从 `a` 到 `z` 的所有小写字母，以及从 `A` 到 `Z` 的所有大写字母。它通常用于需要处理所有英文字母的场景，例如生成随机字符串或验证输入是否为字母。\n",
    "'''\n",
    "digits = string.digits\n",
    "symbols = string.punctuation\n",
    "# Combine all characters\n",
    "all_characters = letters + digits + symbols\n",
    "print(all_characters)"
   ]
  },
  {
   "cell_type": "markdown",
   "id": "6a5d8371",
   "metadata": {},
   "source": [
    "## The second stage"
   ]
  },
  {
   "cell_type": "code",
   "execution_count": null,
   "id": "0e8176c3",
   "metadata": {},
   "outputs": [],
   "source": [
    "import string\n",
    "import secrets\n",
    "letters = string.ascii_letters\n",
    "'''\n",
    "`string.ascii_letters` 是 Python 的 `string` 模块中的一个常量，它包含所有的英文字母，包括小写字母和大写字母。具体来说，它等价于：\n",
    "string.ascii_letters == string.ascii_lowercase + string.ascii_uppercase\n",
    "它的值是一个字符串，内容为：\n",
    "'abcdefghijklmnopqrstuvwxyzABCDEFGHIJKLMNOPQRSTUVWXYZ'\n",
    "也就是说，`string.ascii_letters` 包含了从 `a` 到 `z` 的所有小写字母，以及从 `A` 到 `Z` 的所有大写字母。它通常用于需要处理所有英文字母的场景，例如生成随机字符串或验证输入是否为字母。\n",
    "'''\n",
    "digits = string.digits\n",
    "symbols = string.punctuation\n",
    "# Combine all characters\n",
    "all_characters = letters + digits + symbols\n",
    "print(all_characters)"
   ]
  }
 ],
 "metadata": {
  "kernelspec": {
   "display_name": "Python 3 (ipykernel)",
   "language": "python",
   "name": "python3"
  },
  "language_info": {
   "codemirror_mode": {
    "name": "ipython",
    "version": 3
   },
   "file_extension": ".py",
   "mimetype": "text/x-python",
   "name": "python",
   "nbconvert_exporter": "python",
   "pygments_lexer": "ipython3",
   "version": "3.12.7"
  }
 },
 "nbformat": 4,
 "nbformat_minor": 5
}
