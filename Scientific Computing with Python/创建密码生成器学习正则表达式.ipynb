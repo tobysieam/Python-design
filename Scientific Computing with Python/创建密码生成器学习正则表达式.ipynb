{
 "cells": [
  {
   "cell_type": "markdown",
   "id": "f138ce86",
   "metadata": {},
   "source": [
    "## The first_stage"
   ]
  },
  {
   "cell_type": "code",
   "execution_count": 3,
   "id": "e6d65d13",
   "metadata": {},
   "outputs": [
    {
     "name": "stdout",
     "output_type": "stream",
     "text": [
      "abcdefghijklmnopqrstuvwxyzABCDEFGHIJKLMNOPQRSTUVWXYZ0123456789!\"#$%&'()*+,-./:;<=>?@[\\]^_`{|}~\n"
     ]
    }
   ],
   "source": [
    "import string\n",
    "import secrets\n",
    "letters = string.ascii_letters\n",
    "'''\n",
    "`string.ascii_letters` 是 Python 的 `string` 模块中的一个常量，它包含所有的英文字母，包括小写字母和大写字母。具体来说，它等价于：\n",
    "string.ascii_letters == string.ascii_lowercase + string.ascii_uppercase\n",
    "它的值是一个字符串，内容为：\n",
    "'abcdefghijklmnopqrstuvwxyzABCDEFGHIJKLMNOPQRSTUVWXYZ'\n",
    "也就是说，`string.ascii_letters` 包含了从 `a` 到 `z` 的所有小写字母，以及从 `A` 到 `Z` 的所有大写字母。它通常用于需要处理所有英文字母的场景，例如生成随机字符串或验证输入是否为字母。\n",
    "'''\n",
    "digits = string.digits\n",
    "symbols = string.punctuation\n",
    "# Combine all characters\n",
    "all_characters = letters + digits + symbols\n",
    "print(all_characters)"
   ]
  },
  {
   "cell_type": "markdown",
   "id": "6a5d8371",
   "metadata": {},
   "source": [
    "## The second stage"
   ]
  },
  {
   "cell_type": "code",
   "execution_count": 4,
   "id": "0e8176c3",
   "metadata": {},
   "outputs": [
    {
     "name": "stdout",
     "output_type": "stream",
     "text": [
      "[]\n"
     ]
    }
   ],
   "source": [
    "import secrets\n",
    "import string\n",
    "import re  # 支持正则表达式操作\n",
    "\n",
    "def generate_password(length, nums, special_chars, uppercase, lowercase):\n",
    "    # 这些参数用于后续实现约束密码的生成逻辑\n",
    "    # Define the possible characters for the password\n",
    "    letters = string.ascii_letters\n",
    "    digits = string.digits\n",
    "    symbols = string.punctuation\n",
    "\n",
    "    # Combine all characters\n",
    "    all_characters = letters + digits + symbols\n",
    "    # Generate password\n",
    "    while True:\n",
    "        # 这样可以在后续添加逻辑时，通过检查生成的密码是否符合约束条件来决定是否退出循环。\n",
    "        password = ''\n",
    "        for _ in range(length):\n",
    "            password += secrets.choice(all_characters)\n",
    "            return password\n",
    "        # 添加新的约束元组，匹配单个小写字母、大写字母和特殊字符\n",
    "        constraints = [\n",
    "            (nums, r'\\d'),           # 使用 \\d 匹配单个数字\n",
    "            (lowercase, r'[a-z]'),   # 匹配单个小写字母\n",
    "            (uppercase, r'[A-Z]'),   # 匹配单个大写字母\n",
    "            (special_chars, r'\\W')   # 使用 \\W 匹配非字母数字字符\n",
    "        ]\n",
    "\n",
    "# 修改 pattern 为匹配非字母数字字符\n",
    "pattern = r'\\W'  # 匹配非字母数字字符\n",
    "\n",
    "# 将 quote 修改为单个下划线字符\n",
    "quote = '_'\n",
    "print(re.findall(pattern, quote))  # 使用 re.findall() 打印所有匹配结果"
   ]
  },
  {
   "cell_type": "markdown",
   "id": "456887b8",
   "metadata": {},
   "source": [
    "## The third stage"
   ]
  },
  {
   "cell_type": "code",
   "execution_count": 5,
   "id": "1071ee82",
   "metadata": {},
   "outputs": [],
   "source": [
    "import secrets\n",
    "import string\n",
    "import re  # 支持正则表达式操作\n",
    "\n",
    "def generate_password(length, nums, special_chars, uppercase, lowercase):\n",
    "    # 这些参数用于后续实现约束密码的生成逻辑\n",
    "    # Define the possible characters for the password\n",
    "    letters = string.ascii_letters\n",
    "    digits = string.digits\n",
    "    symbols = string.punctuation\n",
    "\n",
    "    # Combine all characters\n",
    "    all_characters = letters + digits + symbols\n",
    "    # Generate password\n",
    "    while True:\n",
    "        # 这样可以在后续添加逻辑时，通过检查生成的密码是否符合约束条件来决定是否退出循环。\n",
    "        password = ''\n",
    "        for _ in range(length):\n",
    "            password += secrets.choice(all_characters)\n",
    "            return password\n",
    "        # 添加新的约束元组，匹配单个小写字母、大写字母和特殊字符\n",
    "        constraints = [\n",
    "            (nums, r'\\d'),           # 使用 \\d 匹配单个数字\n",
    "            (lowercase, r'[a-z]'),   # 匹配单个小写字母\n",
    "            (uppercase, r'[A-Z]'),   # 匹配单个大写字母\n",
    "            (special_chars, fr'[^{symbols}]')  # 使用 f-string 插入 symbols 变量\n",
    "        ]\n",
    "\n",
    "        count = 0\n",
    "        # 遍历 constraints 列表，检查每个约束\n",
    "        for constraint, pattern in constraints:\n",
    "            '''\n",
    "            这是一个正则表达式函数，用于在字符串password\n",
    "            中查找所有与回pattern匹配的子字符串。\n",
    "            它返回一个列表，列表中的每个元素是一个匹配的子字符串。\n",
    "            '''\n",
    "            '''\n",
    "            这行代码的作用是检查密码中是否包含足够数量的特定字符（如数字、小写字母、大写字母或特殊字符)，以确保密码符合指定的约束条件。\n",
    "            '''\n",
    "            if constraint <= len(re.findall(pattern, password)):  # 调用 findall() 并获取匹配数量\n",
    "                count += 1\n",
    "\n",
    "        if count == 4:\n",
    "            '''\n",
    "            count == 4表示所有约束条件都满足，退出while循环\n",
    "            '''\n",
    "            break\n",
    "            "
   ]
  },
  {
   "cell_type": "markdown",
   "id": "9dc69a9c",
   "metadata": {},
   "source": [
    "## Final stage"
   ]
  },
  {
   "cell_type": "code",
   "execution_count": 6,
   "id": "1f149614",
   "metadata": {},
   "outputs": [
    {
     "name": "stdout",
     "output_type": "stream",
     "text": [
      "Generated password: R\n"
     ]
    }
   ],
   "source": [
    "import secrets\n",
    "import string\n",
    "import re  # 支持正则表达式操作\n",
    "\n",
    "def generate_password(length=16, nums=1, special_chars=1, uppercase=1, lowercase=1):\n",
    "    # 这些参数用于后续实现约束密码的生成逻辑\n",
    "    # Define the possible characters for the password\n",
    "    letters = string.ascii_letters\n",
    "    digits = string.digits\n",
    "    symbols = string.punctuation\n",
    "\n",
    "    # Combine all characters\n",
    "    all_characters = letters + digits + symbols\n",
    "    # Generate password\n",
    "    while True:\n",
    "        # 这样可以在后续添加逻辑时，通过检查生成的密码是否符合约束条件来决定是否退出循环。\n",
    "        password = ''\n",
    "        for _ in range(length):\n",
    "            password += secrets.choice(all_characters)\n",
    "            return password\n",
    "        # 添加新的约束元组，匹配单个小写字母、大写字母和特殊字符\n",
    "        constraints = [\n",
    "            (nums, r'\\d'),           # 使用 \\d 匹配单个数字\n",
    "            (lowercase, r'[a-z]'),   # 匹配单个小写字母\n",
    "            (uppercase, r'[A-Z]'),   # 匹配单个大写字母\n",
    "            (special_chars, fr'[^{symbols}]')  # 使用 f-string 插入 symbols 变量\n",
    "        ]\n",
    "\n",
    "        # 使用 all() 函数检查所有约束是否满足\n",
    "        if all(\n",
    "            constraint <= len(re.findall(pattern, password))\n",
    "            for constraint, pattern in constraints\n",
    "        ):\n",
    "            '''\n",
    "            生成器表达式的优点：\n",
    "            不会创建整个列表，而是逐个生成元素并进行评估。\n",
    "            节省内存，尤其是在处理大型数据时。\n",
    "            '''\n",
    "            break  # 如果所有约束都满足，退出 while 循环\n",
    "\n",
    "# 测试函数\n",
    "if __name__ == '__main__':\n",
    "    new_password = generate_password()\n",
    "    print('Generated password:', new_password)  # 调用函数并打印生成的密码\n",
    "    # 这是Python的惯用语法，用于确保代码仅在直接运行脚本时执行，而在模块被导入时不会执行。"
   ]
  }
 ],
 "metadata": {
  "kernelspec": {
   "display_name": "Python 3 (ipykernel)",
   "language": "python",
   "name": "python3"
  }
 },
 "nbformat": 4,
 "nbformat_minor": 5
}
