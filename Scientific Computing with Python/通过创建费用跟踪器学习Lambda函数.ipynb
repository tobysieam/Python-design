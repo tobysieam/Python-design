{
 "cells": [
  {
   "metadata": {},
   "cell_type": "code",
   "outputs": [],
   "execution_count": null,
   "source": "",
   "id": "7d3d0da2088c38aa"
  },
  {
   "metadata": {},
   "cell_type": "markdown",
   "source": "# list of dictionaries",
   "id": "d7d4c0c9513448af"
  },
  {
   "metadata": {
    "ExecuteTime": {
     "end_time": "2025-03-20T08:35:44.841275Z",
     "start_time": "2025-03-20T08:35:44.762646Z"
    }
   },
   "cell_type": "code",
   "source": [
    "my_list = [1, 2]\n",
    "\n",
    "my_list.append(3)\n",
    "print(my_list)\n",
    "\n",
    "print(my_list[0])\n",
    "\n",
    "my_list[0] = 0\n",
    "print(my_list)\n",
    "\n",
    "my_list.insert(1, 1)\n",
    "print(my_list)\n",
    "\n",
    "my_list.pop()\n",
    "print(my_list)\n"
   ],
   "id": "859fe2417dcbb140",
   "outputs": [
    {
     "name": "stdout",
     "output_type": "stream",
     "text": [
      "[1, 2, 3]\n",
      "1\n",
      "[0, 2, 3]\n",
      "[0, 1, 2, 3]\n",
      "[0, 1, 2]\n"
     ]
    }
   ],
   "execution_count": 1
  },
  {
   "metadata": {},
   "cell_type": "markdown",
   "source": "# lambda function",
   "id": "ac9ee4167db0e9d2"
  },
  {
   "metadata": {
    "ExecuteTime": {
     "end_time": "2025-03-20T08:36:54.042563Z",
     "start_time": "2025-03-20T08:36:54.035060Z"
    }
   },
   "cell_type": "code",
   "source": [
    "test = lambda x: x * 2\n",
    "print(sum(map(test, [2, 3, 5, 8])))\n",
    "print(list(map(test, [2, 3, 5, 8])))"
   ],
   "id": "1caed58af4eec61d",
   "outputs": [
    {
     "name": "stdout",
     "output_type": "stream",
     "text": [
      "36\n",
      "[4, 6, 10, 16]\n"
     ]
    }
   ],
   "execution_count": 3
  },
  {
   "metadata": {},
   "cell_type": "markdown",
   "source": "# final function",
   "id": "24b5eed327f90a34"
  },
  {
   "metadata": {
    "ExecuteTime": {
     "end_time": "2025-03-20T09:25:55.642860Z",
     "start_time": "2025-03-20T09:25:47.121831Z"
    }
   },
   "cell_type": "code",
   "source": [
    "# 知识点1：列表与字典的复合数据结构\n",
    "# 使用列表存储支出记录，每个记录是包含金额和类别的字典\n",
    "def add_expense(expenses, amount, category):\n",
    "    expenses.append({'amount': amount, 'category': category})  # 字典作为列表元素\n",
    "\n",
    "\n",
    "# 知识点2：字符串格式化（f-string）\n",
    "def print_expenses(expenses):\n",
    "    for expense in expenses:  # 遍历列表\n",
    "        print(f'Amount: {expense[\"amount\"]}, Category: {expense[\"category\"]}')  # 字典键访问\n",
    "\n",
    "\n",
    "# 知识点3：Lambda函数与map高阶函数\n",
    "def total_expenses(expenses):\n",
    "    # 使用map提取金额，sum计算总和\n",
    "    return sum(map(lambda expense: expense['amount'], expenses))  # lambda参数：表达式\n",
    "\n",
    "\n",
    "# 知识点4：Filter函数与条件过滤\n",
    "def filter_expenses_by_category(expenses, category):\n",
    "    # 使用lambda创建过滤条件\n",
    "    return filter(lambda expense: expense['category'] == category, expenses)\n",
    "\n",
    "\n",
    "def main():\n",
    "    expenses = []  # 知识点5：列表初始化\n",
    "\n",
    "    # 知识点6：无限循环与菜单驱动界面\n",
    "    while True:\n",
    "        print('\\nExpense Tracker')  # 转义字符\n",
    "        print('1. Add an expense')\n",
    "        print('2. List all expenses')\n",
    "        print('3. Show total expenses')\n",
    "        print('4. Filter expenses by category')\n",
    "        print('5. Exit')\n",
    "\n",
    "        # 知识点7：用户输入处理\n",
    "        choice = input('Enter your choice: ')  # 字符串输入\n",
    "\n",
    "        # 知识点8：条件分支控制\n",
    "        if choice == '1':\n",
    "            # 类型转换与错误处理（潜在改进点）\n",
    "            amount = float(input('Enter amount: '))  # 字符串转浮点数\n",
    "            category = input('Enter category: ')\n",
    "            add_expense(expenses, amount, category)\n",
    "\n",
    "        elif choice == '2':\n",
    "            print('\\nAll Expenses:')\n",
    "            print_expenses(expenses)  # 函数调用\n",
    "\n",
    "        elif choice == '3':\n",
    "            # 知识点9：函数返回值使用\n",
    "            print('\\nTotal Expenses: ', total_expenses(expenses))\n",
    "\n",
    "        elif choice == '4':\n",
    "            category = input('Enter category to filter: ')\n",
    "            print(f'\\nExpenses for {category}:')\n",
    "            # 知识点10：filter对象迭代\n",
    "            expenses_from_category = filter_expenses_by_category(expenses, category)\n",
    "            print_expenses(expenses_from_category)  # 遍历filter对象\n",
    "\n",
    "        elif choice == '5':\n",
    "            print('Exiting the program.')\n",
    "            break  # 退出循环\n",
    "\n",
    "\n",
    "# 知识点11：主程序入口约定\n",
    "if __name__ == '__main__':\n",
    "    main()"
   ],
   "id": "f637922bb57d24e4",
   "outputs": [
    {
     "name": "stdout",
     "output_type": "stream",
     "text": [
      "\n",
      "Expense Tracker\n",
      "1. Add an expense\n",
      "2. List all expenses\n",
      "3. Show total expenses\n",
      "4. Filter expenses by category\n",
      "5. Exit\n",
      "\n",
      "All Expenses:\n",
      "\n",
      "Expense Tracker\n",
      "1. Add an expense\n",
      "2. List all expenses\n",
      "3. Show total expenses\n",
      "4. Filter expenses by category\n",
      "5. Exit\n"
     ]
    },
    {
     "ename": "KeyboardInterrupt",
     "evalue": "Interrupted by user",
     "output_type": "error",
     "traceback": [
      "\u001B[1;31m---------------------------------------------------------------------------\u001B[0m",
      "\u001B[1;31mKeyboardInterrupt\u001B[0m                         Traceback (most recent call last)",
      "Cell \u001B[1;32mIn[7], line 69\u001B[0m\n\u001B[0;32m     67\u001B[0m \u001B[38;5;66;03m# 知识点11：主程序入口约定\u001B[39;00m\n\u001B[0;32m     68\u001B[0m \u001B[38;5;28;01mif\u001B[39;00m \u001B[38;5;18m__name__\u001B[39m \u001B[38;5;241m==\u001B[39m \u001B[38;5;124m'\u001B[39m\u001B[38;5;124m__main__\u001B[39m\u001B[38;5;124m'\u001B[39m:\n\u001B[1;32m---> 69\u001B[0m     main()\n",
      "Cell \u001B[1;32mIn[7], line 44\u001B[0m, in \u001B[0;36mmain\u001B[1;34m()\u001B[0m\n\u001B[0;32m     41\u001B[0m \u001B[38;5;28;01mif\u001B[39;00m choice \u001B[38;5;241m==\u001B[39m \u001B[38;5;124m'\u001B[39m\u001B[38;5;124m1\u001B[39m\u001B[38;5;124m'\u001B[39m:\n\u001B[0;32m     42\u001B[0m     \u001B[38;5;66;03m# 类型转换与错误处理（潜在改进点）\u001B[39;00m\n\u001B[0;32m     43\u001B[0m     amount \u001B[38;5;241m=\u001B[39m \u001B[38;5;28mfloat\u001B[39m(\u001B[38;5;28minput\u001B[39m(\u001B[38;5;124m'\u001B[39m\u001B[38;5;124mEnter amount: \u001B[39m\u001B[38;5;124m'\u001B[39m))  \u001B[38;5;66;03m# 字符串转浮点数\u001B[39;00m\n\u001B[1;32m---> 44\u001B[0m     category \u001B[38;5;241m=\u001B[39m \u001B[38;5;28minput\u001B[39m(\u001B[38;5;124m'\u001B[39m\u001B[38;5;124mEnter category: \u001B[39m\u001B[38;5;124m'\u001B[39m)\n\u001B[0;32m     45\u001B[0m     add_expense(expenses, amount, category)\n\u001B[0;32m     47\u001B[0m \u001B[38;5;28;01melif\u001B[39;00m choice \u001B[38;5;241m==\u001B[39m \u001B[38;5;124m'\u001B[39m\u001B[38;5;124m2\u001B[39m\u001B[38;5;124m'\u001B[39m:\n",
      "File \u001B[1;32mD:\\Anaconda3\\Lib\\site-packages\\ipykernel\\kernelbase.py:1262\u001B[0m, in \u001B[0;36mKernel.raw_input\u001B[1;34m(self, prompt)\u001B[0m\n\u001B[0;32m   1260\u001B[0m     msg \u001B[38;5;241m=\u001B[39m \u001B[38;5;124m\"\u001B[39m\u001B[38;5;124mraw_input was called, but this frontend does not support input requests.\u001B[39m\u001B[38;5;124m\"\u001B[39m\n\u001B[0;32m   1261\u001B[0m     \u001B[38;5;28;01mraise\u001B[39;00m StdinNotImplementedError(msg)\n\u001B[1;32m-> 1262\u001B[0m \u001B[38;5;28;01mreturn\u001B[39;00m \u001B[38;5;28mself\u001B[39m\u001B[38;5;241m.\u001B[39m_input_request(\n\u001B[0;32m   1263\u001B[0m     \u001B[38;5;28mstr\u001B[39m(prompt),\n\u001B[0;32m   1264\u001B[0m     \u001B[38;5;28mself\u001B[39m\u001B[38;5;241m.\u001B[39m_parent_ident[\u001B[38;5;124m\"\u001B[39m\u001B[38;5;124mshell\u001B[39m\u001B[38;5;124m\"\u001B[39m],\n\u001B[0;32m   1265\u001B[0m     \u001B[38;5;28mself\u001B[39m\u001B[38;5;241m.\u001B[39mget_parent(\u001B[38;5;124m\"\u001B[39m\u001B[38;5;124mshell\u001B[39m\u001B[38;5;124m\"\u001B[39m),\n\u001B[0;32m   1266\u001B[0m     password\u001B[38;5;241m=\u001B[39m\u001B[38;5;28;01mFalse\u001B[39;00m,\n\u001B[0;32m   1267\u001B[0m )\n",
      "File \u001B[1;32mD:\\Anaconda3\\Lib\\site-packages\\ipykernel\\kernelbase.py:1305\u001B[0m, in \u001B[0;36mKernel._input_request\u001B[1;34m(self, prompt, ident, parent, password)\u001B[0m\n\u001B[0;32m   1302\u001B[0m \u001B[38;5;28;01mexcept\u001B[39;00m \u001B[38;5;167;01mKeyboardInterrupt\u001B[39;00m:\n\u001B[0;32m   1303\u001B[0m     \u001B[38;5;66;03m# re-raise KeyboardInterrupt, to truncate traceback\u001B[39;00m\n\u001B[0;32m   1304\u001B[0m     msg \u001B[38;5;241m=\u001B[39m \u001B[38;5;124m\"\u001B[39m\u001B[38;5;124mInterrupted by user\u001B[39m\u001B[38;5;124m\"\u001B[39m\n\u001B[1;32m-> 1305\u001B[0m     \u001B[38;5;28;01mraise\u001B[39;00m \u001B[38;5;167;01mKeyboardInterrupt\u001B[39;00m(msg) \u001B[38;5;28;01mfrom\u001B[39;00m \u001B[38;5;28;01mNone\u001B[39;00m\n\u001B[0;32m   1306\u001B[0m \u001B[38;5;28;01mexcept\u001B[39;00m \u001B[38;5;167;01mException\u001B[39;00m:\n\u001B[0;32m   1307\u001B[0m     \u001B[38;5;28mself\u001B[39m\u001B[38;5;241m.\u001B[39mlog\u001B[38;5;241m.\u001B[39mwarning(\u001B[38;5;124m\"\u001B[39m\u001B[38;5;124mInvalid Message:\u001B[39m\u001B[38;5;124m\"\u001B[39m, exc_info\u001B[38;5;241m=\u001B[39m\u001B[38;5;28;01mTrue\u001B[39;00m)\n",
      "\u001B[1;31mKeyboardInterrupt\u001B[0m: Interrupted by user"
     ]
    }
   ],
   "execution_count": 7
  }
 ],
 "metadata": {
  "kernelspec": {
   "display_name": "Python 3",
   "language": "python",
   "name": "python3"
  },
  "language_info": {
   "codemirror_mode": {
    "name": "ipython",
    "version": 2
   },
   "file_extension": ".py",
   "mimetype": "text/x-python",
   "name": "python",
   "nbconvert_exporter": "python",
   "pygments_lexer": "ipython2",
   "version": "2.7.6"
  }
 },
 "nbformat": 4,
 "nbformat_minor": 5
}
