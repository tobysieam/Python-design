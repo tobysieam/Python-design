{
 "cells": [
  {
   "cell_type": "markdown",
   "id": "b83b59e0",
   "metadata": {},
   "source": [
    "## The first stage"
   ]
  },
  {
   "cell_type": "code",
   "execution_count": 2,
   "id": "a592ad6a",
   "metadata": {},
   "outputs": [
    {
     "name": "stdout",
     "output_type": "stream",
     "text": [
      "species Cavia porcellus\n",
      "food hay\n"
     ]
    }
   ],
   "source": [
    "copper = {\n",
    "    'species': 'guinea pig',\n",
    "    'age': 2\n",
    "}\n",
    "copper['food'] = 'hay'\n",
    "copper['species'] = 'Cavia porcellus'\n",
    "del copper['age']\n",
    "\n",
    "for i, j in copper.items():\n",
    "    print(i, j)"
   ]
  },
  {
   "cell_type": "markdown",
   "id": "3b0bfe97",
   "metadata": {},
   "source": [
    "## The second stage"
   ]
  },
  {
   "cell_type": "code",
   "execution_count": 3,
   "id": "c09a0cf4",
   "metadata": {},
   "outputs": [
    {
     "name": "stdout",
     "output_type": "stream",
     "text": [
      "Unvisited: ['A', 'B', 'C', 'D']\n",
      "Distances: {'A': 0, 'B': inf, 'C': inf, 'D': inf}\n"
     ]
    }
   ],
   "source": [
    "my_graph = {\n",
    "    'A': [('B', 3), ('D', 1)],  # 节点 A 连接到节点 B（距离 3）和节点 D（距离 1）\n",
    "    'B': [('A', 3), ('C', 4)],  # 节点 B 连接到节点 A（距离 3）和节点 C（距离 4）\n",
    "    'C': [('B', 4), ('D', 7)],  # 节点 C 连接到节点 B（距离 4）和节点 D（距离 7）\n",
    "    'D': [('A', 1), ('C', 7)]   # 节点 D 连接到节点 A（距离 1）和节点 C（距离 7）\n",
    "}\n",
    "\n",
    "# 修改ABCD为包含元组的列表，表示加权边\n",
    "\n",
    "def shortest_path(graph, start):\n",
    "    unvisited = []  # 用于存储未访问节点的列表\n",
    "    distances = {}  # 用于存储从起始节点到其他节点的最短距离\n",
    "    for node in graph:\n",
    "        unvisited.append(node)  # 将所有节点添加到未访问列表中\n",
    "        if node == start:  # 如果当前节点是起始节点\n",
    "            distances[node] = 0  # 起始节点的距离为 0\n",
    "        else:\n",
    "            distances[node] = float('inf')  # 将其他节点的距离初始化为无穷大\n",
    "\n",
    "    # 打印未访问节点和距离字典的值\n",
    "    print(f'Unvisited: {unvisited}\\nDistances: {distances}')\n",
    "\n",
    "# 调用 shortest_path 函数\n",
    "shortest_path(my_graph, 'A')\n"
   ]
  }
 ],
 "metadata": {
  "kernelspec": {
   "display_name": "Python 3 (ipykernel)",
   "language": "python",
   "name": "python3"
  },
  "language_info": {
   "codemirror_mode": {
    "name": "ipython",
    "version": 3
   },
   "file_extension": ".py",
   "mimetype": "text/x-python",
   "name": "python",
   "nbconvert_exporter": "python",
   "pygments_lexer": "ipython3",
   "version": "3.12.7"
  }
 },
 "nbformat": 4,
 "nbformat_minor": 5
}
