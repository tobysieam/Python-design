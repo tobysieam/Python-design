{
 "cells": [
  {
   "cell_type": "markdown",
   "id": "b83b59e0",
   "metadata": {},
   "source": [
    "## The first stage"
   ]
  },
  {
   "cell_type": "code",
   "execution_count": null,
   "id": "a592ad6a",
   "metadata": {},
   "outputs": [],
   "source": [
    "copper = {\n",
    "    'species': 'guinea pig',\n",
    "    'age': 2\n",
    "}\n",
    "copper['food'] = 'hay'\n",
    "copper['species'] = 'Cavia porcellus'\n",
    "del copper['age']\n",
    "\n",
    "for i, j in copper.items():\n",
    "    print(i, j)"
   ]
  }
 ],
 "metadata": {
  "language_info": {
   "name": "python"
  }
 },
 "nbformat": 4,
 "nbformat_minor": 5
}
